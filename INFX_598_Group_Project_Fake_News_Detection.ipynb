{
  "nbformat": 4,
  "nbformat_minor": 0,
  "metadata": {
    "colab": {
      "name": "INFX 598 Group Project Fake News Detection.ipynb",
      "provenance": [],
      "collapsed_sections": [
        "auQVe2UALbXt"
      ]
    },
    "kernelspec": {
      "display_name": "Python 3",
      "name": "python3"
    },
    "language_info": {
      "name": "python"
    }
  },
  "cells": [
    {
      "cell_type": "markdown",
      "metadata": {
        "id": "QCptTVyAWU8q"
      },
      "source": [
        "#Imported Libraries"
      ]
    },
    {
      "cell_type": "code",
      "metadata": {
        "id": "2_f-SDAjY5aJ"
      },
      "source": [
        "#He we import our necessary libraries.\n",
        "#We import the \"sys\" package to provide access to the variables and functions that interact with the interpreter\n",
        "#We import the \"os\" package from the standard library which provide functions for interacting with the operating system.\n",
        "#We import from the \"urllib\" package specifically the \"request\" module for the purpose of fetching our file resource via URL (Uniform Resource Locators)\n",
        "#We import the \"pandas\" package for the purpose of data manipulation and analysis. This drings the library into the current enviornment. We append \"as pd\" so we can call the pandas method using the \"pd.\" prefix for simplicity.\n",
        "#We import the \"seaborn\" libary for the purpose of data visualization built upon matplotlib\n",
        "#we import the \"nltk\" module, also known as the Natural Language Toolkit. It is used when working with text processing.\n",
        "#We load \"from nltk.corpus import stopwords\". They are the most common words that you do not what to use to describe the topics of your content.\n",
        "#We import \"re\" module, called regular expressions. This allows us to search for a special sequence of characters to search for a pattern.\n",
        "#We need to import the \"sklearn\" library for machine learning functionality.\n",
        "#We import \"numpy\" package as We append \"as pd\" so we can call the pandas method using the \"pd.\" prefix for simplicity.\n",
        "#Lastly, we are changing the setting of a Juptyer notebook to print multiple outputs."
      ],
      "execution_count": null,
      "outputs": []
    },
    {
      "cell_type": "code",
      "metadata": {
        "colab": {
          "base_uri": "https://localhost:8080/"
        },
        "id": "IGKg_emM-t48",
        "outputId": "1e23dd9f-f4be-4793-9099-5f24bfdda844"
      },
      "source": [
        "import sys\n",
        "import os\n",
        "import urllib.request\n",
        "import pandas as pd\n",
        "import nltk\n",
        "from nltk.corpus import stopwords\n",
        "nltk.download('stopwords')\n",
        "import re \n",
        "import sklearn\n",
        "from sklearn.model_selection import train_test_split\n",
        "import numpy as np\n",
        "\n",
        "from sklearn.feature_extraction.text import TfidfVectorizer\n",
        "\n",
        "from IPython.core.interactiveshell import InteractiveShell\n",
        "InteractiveShell.ast_node_interactivity = \"all\""
      ],
      "execution_count": null,
      "outputs": [
        {
          "output_type": "stream",
          "name": "stdout",
          "text": [
            "[nltk_data] Downloading package stopwords to /root/nltk_data...\n",
            "[nltk_data]   Unzipping corpora/stopwords.zip.\n"
          ]
        }
      ]
    },
    {
      "cell_type": "code",
      "metadata": {
        "id": "H6__lgvFZGYx"
      },
      "source": [
        "#These methods return the recall and precision score after a model has been fit and returned the predictions. \n",
        "#They are metrics that can be used to determine the accuracy of a model."
      ],
      "execution_count": null,
      "outputs": []
    },
    {
      "cell_type": "code",
      "metadata": {
        "id": "IgkE-bL6BUFI"
      },
      "source": [
        "from sklearn.metrics import recall_score\n",
        "from sklearn.metrics import precision_score"
      ],
      "execution_count": null,
      "outputs": []
    },
    {
      "cell_type": "markdown",
      "metadata": {
        "id": "E7GzyaFyXMxa"
      },
      "source": [
        "# File Download and Variables \"true\" / \"fake\" assigned as a dataframe"
      ]
    },
    {
      "cell_type": "code",
      "metadata": {
        "id": "a1rLKB0OZM-K"
      },
      "source": [
        "#This is where we assign the variable \"NEWS_PATH\" a value that contains an operating system agnostic file directory folder path, \n",
        "#if not already created, named \"datasets\" and another named \"news\" within.\n",
        "#The output from this code is the current working directory containing files and folders."
      ],
      "execution_count": null,
      "outputs": []
    },
    {
      "cell_type": "code",
      "metadata": {
        "colab": {
          "base_uri": "https://localhost:8080/"
        },
        "id": "Cv6U9Lf7pYNG",
        "outputId": "305f0d4c-ad06-4a78-9da8-88182c470586"
      },
      "source": [
        "NEWS_PATH = os.path.join(\"datasets\",\"news\")\n",
        "if not os.path.isdir(NEWS_PATH):\n",
        "  os.makedirs(NEWS_PATH)\n",
        "\n",
        "os.listdir()"
      ],
      "execution_count": null,
      "outputs": [
        {
          "output_type": "execute_result",
          "data": {
            "text/plain": [
              "['.config', 'datasets', 'sample_data']"
            ]
          },
          "metadata": {},
          "execution_count": 3
        }
      ]
    },
    {
      "cell_type": "code",
      "metadata": {
        "id": "UEsa5t_0ZVmp"
      },
      "source": [
        "#ext, we assign the variables \"FAKE_URL\" and \"TRUE_URL\" the address to a Google Drive link where we have saved our two files.\n",
        "#We assign the varaibles \"fake_file\" and \"true_file\" a value that contains and an operating system agnostic file path containing the each file name.\n",
        "#We finally, use our \"urlretrieve\" method contained in the \"request\" module from the \"urllib\" package.\n",
        "#This retrieves the content from the urls and places it in the assigend path."
      ],
      "execution_count": null,
      "outputs": []
    },
    {
      "cell_type": "code",
      "metadata": {
        "colab": {
          "base_uri": "https://localhost:8080/"
        },
        "id": "FNnxETVKzban",
        "outputId": "6239e565-4562-4087-d0fb-fcf35e57b468"
      },
      "source": [
        "FAKE_URL = \"https://drive.google.com/uc?export=download&id=19zZdsjYjBySE4xLk1TbuPjUMdohQC3xT\"\n",
        "fake_file = os.path.join(NEWS_PATH, \"FakeNews.csv\")\n",
        "urllib.request.urlretrieve(FAKE_URL, fake_file)\n",
        "\n",
        "TRUE_URL = \"https://drive.google.com/uc?export=download&id=1Je7-NjUyxlz-YgdGDLfO1dNUg68-i4Ce\"\n",
        "true_file  = os.path.join(NEWS_PATH, \"TrueNews.csv\")\n",
        "urllib.request.urlretrieve(TRUE_URL, true_file)"
      ],
      "execution_count": null,
      "outputs": [
        {
          "output_type": "execute_result",
          "data": {
            "text/plain": [
              "('datasets/news/FakeNews.csv', <http.client.HTTPMessage at 0x7f236bbb7790>)"
            ]
          },
          "metadata": {},
          "execution_count": 4
        },
        {
          "output_type": "execute_result",
          "data": {
            "text/plain": [
              "('datasets/news/TrueNews.csv', <http.client.HTTPMessage at 0x7f236bb7d510>)"
            ]
          },
          "metadata": {},
          "execution_count": 4
        }
      ]
    },
    {
      "cell_type": "code",
      "metadata": {
        "id": "jpNoRcRrZb9x"
      },
      "source": [
        "#Here, we read the data into a DataFrame. This makes the data readable and presentable."
      ],
      "execution_count": null,
      "outputs": []
    },
    {
      "cell_type": "code",
      "metadata": {
        "id": "xhxiG6MhqOQ7"
      },
      "source": [
        "csv_true = os.path.join(NEWS_PATH, \"TrueNews.csv\")\n",
        "true = pd.read_csv(csv_true)\n",
        "csv_fake = os.path.join(NEWS_PATH, \"FakeNews.csv\")\n",
        "fake = pd.read_csv(csv_fake)"
      ],
      "execution_count": null,
      "outputs": []
    },
    {
      "cell_type": "markdown",
      "metadata": {
        "id": "ysDvqq1DXjJc"
      },
      "source": [
        "# Univaraite Analysis"
      ]
    },
    {
      "cell_type": "code",
      "metadata": {
        "id": "ZrN84SZvZf0n"
      },
      "source": [
        "#Here we get the first 5 records of each file."
      ],
      "execution_count": null,
      "outputs": []
    },
    {
      "cell_type": "code",
      "metadata": {
        "colab": {
          "base_uri": "https://localhost:8080/",
          "height": 534
        },
        "id": "5BSjLQs-NMg-",
        "outputId": "92df09e3-f570-4bae-aba7-232067504381"
      },
      "source": [
        "true.head()"
      ],
      "execution_count": null,
      "outputs": [
        {
          "output_type": "execute_result",
          "data": {
            "text/html": [
              "<div>\n",
              "<style scoped>\n",
              "    .dataframe tbody tr th:only-of-type {\n",
              "        vertical-align: middle;\n",
              "    }\n",
              "\n",
              "    .dataframe tbody tr th {\n",
              "        vertical-align: top;\n",
              "    }\n",
              "\n",
              "    .dataframe thead th {\n",
              "        text-align: right;\n",
              "    }\n",
              "</style>\n",
              "<table border=\"1\" class=\"dataframe\">\n",
              "  <thead>\n",
              "    <tr style=\"text-align: right;\">\n",
              "      <th></th>\n",
              "      <th>title</th>\n",
              "      <th>text</th>\n",
              "      <th>subject</th>\n",
              "      <th>date</th>\n",
              "    </tr>\n",
              "  </thead>\n",
              "  <tbody>\n",
              "    <tr>\n",
              "      <th>0</th>\n",
              "      <td>As U.S. budget fight looms, Republicans flip t...</td>\n",
              "      <td>WASHINGTON (Reuters) - The head of a conservat...</td>\n",
              "      <td>politicsNews</td>\n",
              "      <td>December 31, 2017</td>\n",
              "    </tr>\n",
              "    <tr>\n",
              "      <th>1</th>\n",
              "      <td>U.S. military to accept transgender recruits o...</td>\n",
              "      <td>WASHINGTON (Reuters) - Transgender people will...</td>\n",
              "      <td>politicsNews</td>\n",
              "      <td>December 29, 2017</td>\n",
              "    </tr>\n",
              "    <tr>\n",
              "      <th>2</th>\n",
              "      <td>Senior U.S. Republican senator: 'Let Mr. Muell...</td>\n",
              "      <td>WASHINGTON (Reuters) - The special counsel inv...</td>\n",
              "      <td>politicsNews</td>\n",
              "      <td>December 31, 2017</td>\n",
              "    </tr>\n",
              "    <tr>\n",
              "      <th>3</th>\n",
              "      <td>FBI Russia probe helped by Australian diplomat...</td>\n",
              "      <td>WASHINGTON (Reuters) - Trump campaign adviser ...</td>\n",
              "      <td>politicsNews</td>\n",
              "      <td>December 30, 2017</td>\n",
              "    </tr>\n",
              "    <tr>\n",
              "      <th>4</th>\n",
              "      <td>Trump wants Postal Service to charge 'much mor...</td>\n",
              "      <td>SEATTLE/WASHINGTON (Reuters) - President Donal...</td>\n",
              "      <td>politicsNews</td>\n",
              "      <td>December 29, 2017</td>\n",
              "    </tr>\n",
              "  </tbody>\n",
              "</table>\n",
              "</div>"
            ],
            "text/plain": [
              "                                               title  ...                date\n",
              "0  As U.S. budget fight looms, Republicans flip t...  ...  December 31, 2017 \n",
              "1  U.S. military to accept transgender recruits o...  ...  December 29, 2017 \n",
              "2  Senior U.S. Republican senator: 'Let Mr. Muell...  ...  December 31, 2017 \n",
              "3  FBI Russia probe helped by Australian diplomat...  ...  December 30, 2017 \n",
              "4  Trump wants Postal Service to charge 'much mor...  ...  December 29, 2017 \n",
              "\n",
              "[5 rows x 4 columns]"
            ]
          },
          "metadata": {},
          "execution_count": 6
        }
      ]
    },
    {
      "cell_type": "code",
      "metadata": {
        "colab": {
          "base_uri": "https://localhost:8080/",
          "height": 616
        },
        "id": "0xhmB_Xj7OaB",
        "outputId": "ea5f4c72-1b5f-4886-bf66-6d1bb5eb3610"
      },
      "source": [
        "fake.head()"
      ],
      "execution_count": null,
      "outputs": [
        {
          "output_type": "execute_result",
          "data": {
            "text/html": [
              "<div>\n",
              "<style scoped>\n",
              "    .dataframe tbody tr th:only-of-type {\n",
              "        vertical-align: middle;\n",
              "    }\n",
              "\n",
              "    .dataframe tbody tr th {\n",
              "        vertical-align: top;\n",
              "    }\n",
              "\n",
              "    .dataframe thead th {\n",
              "        text-align: right;\n",
              "    }\n",
              "</style>\n",
              "<table border=\"1\" class=\"dataframe\">\n",
              "  <thead>\n",
              "    <tr style=\"text-align: right;\">\n",
              "      <th></th>\n",
              "      <th>title</th>\n",
              "      <th>text</th>\n",
              "      <th>subject</th>\n",
              "      <th>date</th>\n",
              "    </tr>\n",
              "  </thead>\n",
              "  <tbody>\n",
              "    <tr>\n",
              "      <th>0</th>\n",
              "      <td>Donald Trump Sends Out Embarrassing New Year’...</td>\n",
              "      <td>Donald Trump just couldn t wish all Americans ...</td>\n",
              "      <td>News</td>\n",
              "      <td>December 31, 2017</td>\n",
              "    </tr>\n",
              "    <tr>\n",
              "      <th>1</th>\n",
              "      <td>Drunk Bragging Trump Staffer Started Russian ...</td>\n",
              "      <td>House Intelligence Committee Chairman Devin Nu...</td>\n",
              "      <td>News</td>\n",
              "      <td>December 31, 2017</td>\n",
              "    </tr>\n",
              "    <tr>\n",
              "      <th>2</th>\n",
              "      <td>Sheriff David Clarke Becomes An Internet Joke...</td>\n",
              "      <td>On Friday, it was revealed that former Milwauk...</td>\n",
              "      <td>News</td>\n",
              "      <td>December 30, 2017</td>\n",
              "    </tr>\n",
              "    <tr>\n",
              "      <th>3</th>\n",
              "      <td>Trump Is So Obsessed He Even Has Obama’s Name...</td>\n",
              "      <td>On Christmas day, Donald Trump announced that ...</td>\n",
              "      <td>News</td>\n",
              "      <td>December 29, 2017</td>\n",
              "    </tr>\n",
              "    <tr>\n",
              "      <th>4</th>\n",
              "      <td>Pope Francis Just Called Out Donald Trump Dur...</td>\n",
              "      <td>Pope Francis used his annual Christmas Day mes...</td>\n",
              "      <td>News</td>\n",
              "      <td>December 25, 2017</td>\n",
              "    </tr>\n",
              "  </tbody>\n",
              "</table>\n",
              "</div>"
            ],
            "text/plain": [
              "                                               title  ...               date\n",
              "0   Donald Trump Sends Out Embarrassing New Year’...  ...  December 31, 2017\n",
              "1   Drunk Bragging Trump Staffer Started Russian ...  ...  December 31, 2017\n",
              "2   Sheriff David Clarke Becomes An Internet Joke...  ...  December 30, 2017\n",
              "3   Trump Is So Obsessed He Even Has Obama’s Name...  ...  December 29, 2017\n",
              "4   Pope Francis Just Called Out Donald Trump Dur...  ...  December 25, 2017\n",
              "\n",
              "[5 rows x 4 columns]"
            ]
          },
          "metadata": {},
          "execution_count": 7
        }
      ]
    },
    {
      "cell_type": "code",
      "metadata": {
        "id": "gb5cBVoNZi9u"
      },
      "source": [
        "#We assign each article instance a value for the category column of the DataFrame. \n",
        "#This value is a label distinguishing fake from true news, that will be key for training our learning model.\n",
        "#Then, we combine our two Dataframes that have the same number of columns into a another DataFrame named \"df\".\n",
        "#Finally, we output the columns of our new whole dataset."
      ],
      "execution_count": null,
      "outputs": []
    },
    {
      "cell_type": "code",
      "metadata": {
        "colab": {
          "base_uri": "https://localhost:8080/"
        },
        "id": "zv5zKx_p7Wm9",
        "outputId": "50939f1e-6448-401a-bda0-1862839d113a"
      },
      "source": [
        "true['category'] = 1\n",
        "fake['category'] = 0\n",
        "\n",
        "df = pd.concat([true,fake])\n",
        "\n",
        "df.columns"
      ],
      "execution_count": null,
      "outputs": [
        {
          "output_type": "execute_result",
          "data": {
            "text/plain": [
              "Index(['title', 'text', 'subject', 'date', 'category'], dtype='object')"
            ]
          },
          "metadata": {},
          "execution_count": 8
        }
      ]
    },
    {
      "cell_type": "code",
      "metadata": {
        "id": "aExZAdVLZnx6"
      },
      "source": [
        "#This next function shows the count of observations in each category 1 = true 0 = fake. \n",
        "#This is a historgram, a univatriate analysis for our labels that we are trying to predict. \n",
        "#It is important that we train models with straitified data sets that contain an equal ratio of observations categories."
      ],
      "execution_count": null,
      "outputs": []
    },
    {
      "cell_type": "code",
      "metadata": {
        "id": "DmW0xj9CaaqN"
      },
      "source": [
        "#Univaritae Analysis of our two Classifications"
      ],
      "execution_count": null,
      "outputs": []
    },
    {
      "cell_type": "code",
      "metadata": {
        "colab": {
          "base_uri": "https://localhost:8080/",
          "height": 102
        },
        "id": "LaZIJ1cV7mWa",
        "outputId": "ed9c6d2a-ca02-4d44-d0fc-ed3accfce1aa"
      },
      "source": [
        "import seaborn as sns\n",
        "\n",
        "sns.set_style(\"darkgrid\")\n",
        "sns.countplot(df.category)"
      ],
      "execution_count": null,
      "outputs": [
        {
          "output_type": "stream",
          "name": "stderr",
          "text": [
            "/usr/local/lib/python3.7/dist-packages/seaborn/_decorators.py:43: FutureWarning: Pass the following variable as a keyword arg: x. From version 0.12, the only valid positional argument will be `data`, and passing other arguments without an explicit keyword will result in an error or misinterpretation.\n",
            "  FutureWarning\n"
          ]
        },
        {
          "output_type": "execute_result",
          "data": {
            "text/plain": [
              "<matplotlib.axes._subplots.AxesSubplot at 0x7f236ab7ebd0>"
            ]
          },
          "metadata": {},
          "execution_count": 9
        },
        {
          "output_type": "display_data",
          "data": {
            "image/png": "[encoded data removed]",
            "text/plain": [
              "<Figure size 432x288 with 1 Axes>"
            ]
          },
          "metadata": {}
        }
      ]
    },
    {
      "cell_type": "code",
      "metadata": {
        "id": "yfQlOwNhae6C"
      },
      "source": [
        "#Here we are checking for missing values."
      ],
      "execution_count": null,
      "outputs": []
    },
    {
      "cell_type": "code",
      "metadata": {
        "colab": {
          "base_uri": "https://localhost:8080/"
        },
        "id": "QwwqJeyI883-",
        "outputId": "c9a2a396-c380-4d89-eab8-72192af309b1"
      },
      "source": [
        "df.isna().sum()"
      ],
      "execution_count": null,
      "outputs": [
        {
          "output_type": "execute_result",
          "data": {
            "text/plain": [
              "title       0\n",
              "text        0\n",
              "subject     0\n",
              "date        0\n",
              "category    0\n",
              "dtype: int64"
            ]
          },
          "metadata": {},
          "execution_count": 10
        }
      ]
    },
    {
      "cell_type": "code",
      "metadata": {
        "id": "yhXVyNCsah5_"
      },
      "source": [
        "#Next we analyze our subjects. We notice that subjects are different in each classification of news articles. We must now exclude this data."
      ],
      "execution_count": null,
      "outputs": []
    },
    {
      "cell_type": "code",
      "metadata": {
        "colab": {
          "base_uri": "https://localhost:8080/"
        },
        "id": "D7hXU3VM9GiM",
        "outputId": "9d9568cd-308d-4cbd-d5e4-29a1de545399"
      },
      "source": [
        "df.subject.value_counts()"
      ],
      "execution_count": null,
      "outputs": [
        {
          "output_type": "execute_result",
          "data": {
            "text/plain": [
              "politicsNews       11272\n",
              "worldnews          10145\n",
              "News                9050\n",
              "politics            6841\n",
              "left-news           4459\n",
              "Government News     1570\n",
              "US_News              783\n",
              "Middle-east          778\n",
              "Name: subject, dtype: int64"
            ]
          },
          "metadata": {},
          "execution_count": 11
        }
      ]
    },
    {
      "cell_type": "code",
      "metadata": {
        "id": "_EJesy5oalID"
      },
      "source": [
        "#Univaraite Analysis of Subject for the True News Classificaton"
      ],
      "execution_count": null,
      "outputs": []
    },
    {
      "cell_type": "code",
      "metadata": {
        "colab": {
          "base_uri": "https://localhost:8080/",
          "height": 102
        },
        "id": "MVsR3QOyhZFi",
        "outputId": "dd31c1da-80b3-4870-db5f-ccf662c01bfe"
      },
      "source": [
        "true_cat = sns.countplot(true.subject)\n",
        "true_cat.set_xticklabels(labels=true.subject ,rotation=40, ha=\"right\")"
      ],
      "execution_count": null,
      "outputs": [
        {
          "output_type": "stream",
          "name": "stderr",
          "text": [
            "/usr/local/lib/python3.7/dist-packages/seaborn/_decorators.py:43: FutureWarning: Pass the following variable as a keyword arg: x. From version 0.12, the only valid positional argument will be `data`, and passing other arguments without an explicit keyword will result in an error or misinterpretation.\n",
            "  FutureWarning\n"
          ]
        },
        {
          "output_type": "execute_result",
          "data": {
            "text/plain": [
              "[Text(0, 0, 'politicsNews'), Text(0, 0, 'politicsNews')]"
            ]
          },
          "metadata": {},
          "execution_count": 12
        },
        {
          "output_type": "display_data",
          "data": {
            "image/png": "[encoded data removed]",
            "text/plain": [
              "<Figure size 432x288 with 1 Axes>"
            ]
          },
          "metadata": {}
        }
      ]
    },
    {
      "cell_type": "code",
      "metadata": {
        "colab": {
          "base_uri": "https://localhost:8080/"
        },
        "id": "7w6ZVo8-geSD",
        "outputId": "3c4a8641-1461-4165-f215-794b30398da3"
      },
      "source": [
        "true.subject.value_counts()"
      ],
      "execution_count": null,
      "outputs": [
        {
          "output_type": "execute_result",
          "data": {
            "text/plain": [
              "politicsNews    11272\n",
              "worldnews       10145\n",
              "Name: subject, dtype: int64"
            ]
          },
          "metadata": {},
          "execution_count": 13
        }
      ]
    },
    {
      "cell_type": "code",
      "metadata": {
        "id": "Kbq3a09Fannp"
      },
      "source": [
        "#Univaraite Analysis of Subject for the Fake News Classificaton"
      ],
      "execution_count": null,
      "outputs": []
    },
    {
      "cell_type": "code",
      "metadata": {
        "colab": {
          "base_uri": "https://localhost:8080/",
          "height": 184
        },
        "id": "HCx1ii54gxDG",
        "outputId": "562a028a-1ab1-437c-f5e6-7025506e1db2"
      },
      "source": [
        "ax = sns.countplot(fake.subject)\n",
        "\n",
        "ax.set_xticklabels(ax.get_xticklabels(), rotation=40, ha=\"right\")"
      ],
      "execution_count": null,
      "outputs": [
        {
          "output_type": "stream",
          "name": "stderr",
          "text": [
            "/usr/local/lib/python3.7/dist-packages/seaborn/_decorators.py:43: FutureWarning: Pass the following variable as a keyword arg: x. From version 0.12, the only valid positional argument will be `data`, and passing other arguments without an explicit keyword will result in an error or misinterpretation.\n",
            "  FutureWarning\n"
          ]
        },
        {
          "output_type": "execute_result",
          "data": {
            "text/plain": [
              "[Text(0, 0, 'News'),\n",
              " Text(0, 0, 'politics'),\n",
              " Text(0, 0, 'Government News'),\n",
              " Text(0, 0, 'left-news'),\n",
              " Text(0, 0, 'US_News'),\n",
              " Text(0, 0, 'Middle-east')]"
            ]
          },
          "metadata": {},
          "execution_count": 14
        },
        {
          "output_type": "display_data",
          "data": {
            "image/png": "[encoded data removed]",
            "text/plain": [
              "<Figure size 432x288 with 1 Axes>"
            ]
          },
          "metadata": {}
        }
      ]
    },
    {
      "cell_type": "code",
      "metadata": {
        "colab": {
          "base_uri": "https://localhost:8080/"
        },
        "id": "gc6z1P0MgeF7",
        "outputId": "10560cbe-b115-4a44-bd72-1d9399b9a33a"
      },
      "source": [
        "fake.subject.value_counts()"
      ],
      "execution_count": null,
      "outputs": [
        {
          "output_type": "execute_result",
          "data": {
            "text/plain": [
              "News               9050\n",
              "politics           6841\n",
              "left-news          4459\n",
              "Government News    1570\n",
              "US_News             783\n",
              "Middle-east         778\n",
              "Name: subject, dtype: int64"
            ]
          },
          "metadata": {},
          "execution_count": 15
        }
      ]
    },
    {
      "cell_type": "code",
      "metadata": {
        "colab": {
          "base_uri": "https://localhost:8080/"
        },
        "id": "u-JYX1kUkJNc",
        "outputId": "f3e7207b-bbf0-4a13-e5d0-45ebad1dfb96"
      },
      "source": [
        "df.columns"
      ],
      "execution_count": null,
      "outputs": [
        {
          "output_type": "execute_result",
          "data": {
            "text/plain": [
              "Index(['title', 'text', 'subject', 'date', 'category'], dtype='object')"
            ]
          },
          "metadata": {},
          "execution_count": 16
        }
      ]
    },
    {
      "cell_type": "code",
      "metadata": {
        "id": "L62710lawM8A",
        "colab": {
          "base_uri": "https://localhost:8080/"
        },
        "outputId": "61c13791-4383-4534-c1cc-3b9d1b6637ff"
      },
      "source": [
        "len(df)"
      ],
      "execution_count": null,
      "outputs": [
        {
          "output_type": "execute_result",
          "data": {
            "text/plain": [
              "44898"
            ]
          },
          "metadata": {},
          "execution_count": 17
        }
      ]
    },
    {
      "cell_type": "markdown",
      "metadata": {
        "id": "9SVxTb_3YK5c"
      },
      "source": [
        "# Data Normalization & Test/Train Split"
      ]
    },
    {
      "cell_type": "code",
      "metadata": {
        "id": "toGewFb8ariG"
      },
      "source": [
        "#Here we are merging the title with the text of the article into one column."
      ],
      "execution_count": null,
      "outputs": []
    },
    {
      "cell_type": "code",
      "metadata": {
        "id": "k-5YRyzykMcb"
      },
      "source": [
        "df['text'] = df['title'] + \" \" + df['text']"
      ],
      "execution_count": null,
      "outputs": []
    },
    {
      "cell_type": "code",
      "metadata": {
        "id": "axWaa2-Catu4"
      },
      "source": [
        "#We are also removing the date, subject, and title from the dataframe."
      ],
      "execution_count": null,
      "outputs": []
    },
    {
      "cell_type": "code",
      "metadata": {
        "id": "cSCavT3PlCgO"
      },
      "source": [
        "del df['title']\n",
        "del df['subject']\n",
        "del df['date']"
      ],
      "execution_count": null,
      "outputs": []
    },
    {
      "cell_type": "code",
      "metadata": {
        "id": "9mdvAe7Vawkp"
      },
      "source": [
        "#We are now removing the stopwords that do not add much meaning to sentances. They are ignored without removing meaning."
      ],
      "execution_count": null,
      "outputs": []
    },
    {
      "cell_type": "code",
      "metadata": {
        "id": "aUu4sbmquYLN"
      },
      "source": [
        "stop = set(stopwords.words('english'))\n",
        "\n",
        "def remove_stopwords(text):\n",
        "    final_text = []\n",
        "    for i in text.split():\n",
        "        if i.strip().lower() not in stop:\n",
        "            final_text.append(i.strip())\n",
        "    return \" \".join(final_text)\n",
        "\n",
        "df['text'] = df['text'].apply(remove_stopwords)"
      ],
      "execution_count": null,
      "outputs": []
    },
    {
      "cell_type": "code",
      "metadata": {
        "colab": {
          "base_uri": "https://localhost:8080/"
        },
        "id": "OzNxWIyOQK2q",
        "outputId": "b7bebc2b-457e-4ea9-9609-a908b68f3f96"
      },
      "source": [
        "len(df)"
      ],
      "execution_count": null,
      "outputs": [
        {
          "output_type": "execute_result",
          "data": {
            "text/plain": [
              "44898"
            ]
          },
          "metadata": {},
          "execution_count": 21
        }
      ]
    },
    {
      "cell_type": "code",
      "metadata": {
        "colab": {
          "base_uri": "https://localhost:8080/",
          "height": 550
        },
        "id": "bYQ0R9Sjx_wF",
        "outputId": "95ee4e9b-ef02-48ea-f570-d8499737fe91"
      },
      "source": [
        "df.head()"
      ],
      "execution_count": null,
      "outputs": [
        {
          "output_type": "execute_result",
          "data": {
            "text/html": [
              "<div>\n",
              "<style scoped>\n",
              "    .dataframe tbody tr th:only-of-type {\n",
              "        vertical-align: middle;\n",
              "    }\n",
              "\n",
              "    .dataframe tbody tr th {\n",
              "        vertical-align: top;\n",
              "    }\n",
              "\n",
              "    .dataframe thead th {\n",
              "        text-align: right;\n",
              "    }\n",
              "</style>\n",
              "<table border=\"1\" class=\"dataframe\">\n",
              "  <thead>\n",
              "    <tr style=\"text-align: right;\">\n",
              "      <th></th>\n",
              "      <th>text</th>\n",
              "      <th>category</th>\n",
              "    </tr>\n",
              "  </thead>\n",
              "  <tbody>\n",
              "    <tr>\n",
              "      <th>0</th>\n",
              "      <td>U.S. budget fight looms, Republicans flip fisc...</td>\n",
              "      <td>1</td>\n",
              "    </tr>\n",
              "    <tr>\n",
              "      <th>1</th>\n",
              "      <td>U.S. military accept transgender recruits Mond...</td>\n",
              "      <td>1</td>\n",
              "    </tr>\n",
              "    <tr>\n",
              "      <th>2</th>\n",
              "      <td>Senior U.S. Republican senator: 'Let Mr. Muell...</td>\n",
              "      <td>1</td>\n",
              "    </tr>\n",
              "    <tr>\n",
              "      <th>3</th>\n",
              "      <td>FBI Russia probe helped Australian diplomat ti...</td>\n",
              "      <td>1</td>\n",
              "    </tr>\n",
              "    <tr>\n",
              "      <th>4</th>\n",
              "      <td>Trump wants Postal Service charge 'much more' ...</td>\n",
              "      <td>1</td>\n",
              "    </tr>\n",
              "  </tbody>\n",
              "</table>\n",
              "</div>"
            ],
            "text/plain": [
              "                                                text  category\n",
              "0  U.S. budget fight looms, Republicans flip fisc...         1\n",
              "1  U.S. military accept transgender recruits Mond...         1\n",
              "2  Senior U.S. Republican senator: 'Let Mr. Muell...         1\n",
              "3  FBI Russia probe helped Australian diplomat ti...         1\n",
              "4  Trump wants Postal Service charge 'much more' ...         1"
            ]
          },
          "metadata": {},
          "execution_count": 22
        }
      ]
    },
    {
      "cell_type": "code",
      "metadata": {
        "id": "i-bky43Yaz0o"
      },
      "source": [
        "#next we are normalizing our data by removing extra spaces and url links. We are also converting all text to lowercase."
      ],
      "execution_count": null,
      "outputs": []
    },
    {
      "cell_type": "code",
      "metadata": {
        "id": "XM__uHsTyWRe"
      },
      "source": [
        "def normalize(data):\n",
        "    normalized = []\n",
        "    for i in data:\n",
        "        i = i.lower()\n",
        "        # get rid of urls\n",
        "        i = re.sub('https?://\\S+|www\\.\\S+', '', i)\n",
        "        # get rid of non words and extra spaces\n",
        "        i = re.sub('\\\\W', ' ', i)\n",
        "        i = re.sub('\\n', '', i)\n",
        "        i = re.sub(' +', ' ', i)\n",
        "        i = re.sub('^ ', '', i)\n",
        "        i = re.sub(' $', '', i)\n",
        "        normalized.append(i)\n",
        "    return normalized\n",
        "\n",
        "df['text'] = normalize(df['text'])"
      ],
      "execution_count": null,
      "outputs": []
    },
    {
      "cell_type": "code",
      "metadata": {
        "colab": {
          "base_uri": "https://localhost:8080/",
          "height": 583
        },
        "id": "M_SpmeMu4edZ",
        "outputId": "918aad2a-46d8-4279-f835-38c83d3a1cea"
      },
      "source": [
        "df.head()"
      ],
      "execution_count": null,
      "outputs": [
        {
          "output_type": "execute_result",
          "data": {
            "text/html": [
              "<div>\n",
              "<style scoped>\n",
              "    .dataframe tbody tr th:only-of-type {\n",
              "        vertical-align: middle;\n",
              "    }\n",
              "\n",
              "    .dataframe tbody tr th {\n",
              "        vertical-align: top;\n",
              "    }\n",
              "\n",
              "    .dataframe thead th {\n",
              "        text-align: right;\n",
              "    }\n",
              "</style>\n",
              "<table border=\"1\" class=\"dataframe\">\n",
              "  <thead>\n",
              "    <tr style=\"text-align: right;\">\n",
              "      <th></th>\n",
              "      <th>text</th>\n",
              "      <th>category</th>\n",
              "    </tr>\n",
              "  </thead>\n",
              "  <tbody>\n",
              "    <tr>\n",
              "      <th>0</th>\n",
              "      <td>u s budget fight looms republicans flip fiscal...</td>\n",
              "      <td>1</td>\n",
              "    </tr>\n",
              "    <tr>\n",
              "      <th>1</th>\n",
              "      <td>u s military accept transgender recruits monda...</td>\n",
              "      <td>1</td>\n",
              "    </tr>\n",
              "    <tr>\n",
              "      <th>2</th>\n",
              "      <td>senior u s republican senator let mr mueller j...</td>\n",
              "      <td>1</td>\n",
              "    </tr>\n",
              "    <tr>\n",
              "      <th>3</th>\n",
              "      <td>fbi russia probe helped australian diplomat ti...</td>\n",
              "      <td>1</td>\n",
              "    </tr>\n",
              "    <tr>\n",
              "      <th>4</th>\n",
              "      <td>trump wants postal service charge much more am...</td>\n",
              "      <td>1</td>\n",
              "    </tr>\n",
              "  </tbody>\n",
              "</table>\n",
              "</div>"
            ],
            "text/plain": [
              "                                                text  category\n",
              "0  u s budget fight looms republicans flip fiscal...         1\n",
              "1  u s military accept transgender recruits monda...         1\n",
              "2  senior u s republican senator let mr mueller j...         1\n",
              "3  fbi russia probe helped australian diplomat ti...         1\n",
              "4  trump wants postal service charge much more am...         1"
            ]
          },
          "metadata": {},
          "execution_count": 24
        }
      ]
    },
    {
      "cell_type": "code",
      "metadata": {
        "id": "quiA3NjUa2ZR"
      },
      "source": [
        "#Here we assigned the news data to the train_test_split function with a test ratio of 20%. This will allow us to learn from the training data and test our model with the test set."
      ],
      "execution_count": null,
      "outputs": []
    },
    {
      "cell_type": "code",
      "metadata": {
        "id": "wmPR8v8_0x9F"
      },
      "source": [
        "features = df['text']\n",
        "targets = df['category']\n",
        "\n",
        "x_train,x_test,y_train,y_test = train_test_split(features, targets, test_size=0.2, random_state=7)"
      ],
      "execution_count": null,
      "outputs": []
    },
    {
      "cell_type": "code",
      "metadata": {
        "colab": {
          "base_uri": "https://localhost:8080/"
        },
        "id": "-ANzgxFV6hPc",
        "outputId": "1a89cd41-dc7d-4df3-ac21-95023d82bc6b"
      },
      "source": [
        "len(x_train)"
      ],
      "execution_count": null,
      "outputs": [
        {
          "output_type": "execute_result",
          "data": {
            "text/plain": [
              "35918"
            ]
          },
          "metadata": {},
          "execution_count": 26
        }
      ]
    },
    {
      "cell_type": "code",
      "metadata": {
        "colab": {
          "base_uri": "https://localhost:8080/"
        },
        "id": "PQE03gcU5sne",
        "outputId": "302cefe1-03eb-42c5-bb36-7c40eff46e88"
      },
      "source": [
        "x_train.head()"
      ],
      "execution_count": null,
      "outputs": [
        {
          "output_type": "execute_result",
          "data": {
            "text/plain": [
              "15852    family s c shooting victim message al sharpton...\n",
              "16604    bad venezuela socialism s endgame sucks bad ve...\n",
              "20950    machete attacker mohamed barry living u s gree...\n",
              "21359    turkey never eu member erdogan germany s gabri...\n",
              "11388    fujimori family pulls peru back political turm...\n",
              "Name: text, dtype: object"
            ]
          },
          "metadata": {},
          "execution_count": 27
        }
      ]
    },
    {
      "cell_type": "markdown",
      "metadata": {
        "id": "6qv6aP1ZYUeP"
      },
      "source": [
        "# Tfid Vectorizer"
      ]
    },
    {
      "cell_type": "code",
      "metadata": {
        "id": "a6MBptXfa4-p"
      },
      "source": [
        "#A TfidfVectorizer turns a collection of raw documents into a matrix of TF-IDF features."
      ],
      "execution_count": null,
      "outputs": []
    },
    {
      "cell_type": "code",
      "metadata": {
        "id": "eye0DPGC77cD"
      },
      "source": [
        "#Initialize TfidfVectorizer\n",
        "tfidf_vectorizer=TfidfVectorizer(stop_words='english', max_df=0.7)\n",
        "\n",
        "#Fit and transform train set, transform test set\n",
        "tfidf_train=tfidf_vectorizer.fit_transform(x_train) \n",
        "tfidf_test=tfidf_vectorizer.transform(x_test)"
      ],
      "execution_count": null,
      "outputs": []
    },
    {
      "cell_type": "markdown",
      "metadata": {
        "id": "YEuagetbYaSS"
      },
      "source": [
        "# Passive Agressive Classifier"
      ]
    },
    {
      "cell_type": "code",
      "metadata": {
        "id": "7-nWUkbta70n"
      },
      "source": [
        "#Here we import the Passive Aggressive Classifier"
      ],
      "execution_count": null,
      "outputs": []
    },
    {
      "cell_type": "code",
      "metadata": {
        "id": "m4ubSSFw8LeJ"
      },
      "source": [
        "from sklearn.linear_model import PassiveAggressiveClassifier\n",
        "from sklearn.metrics import accuracy_score, confusion_matrix"
      ],
      "execution_count": null,
      "outputs": []
    },
    {
      "cell_type": "code",
      "metadata": {
        "id": "N3H9xC0_a-iT"
      },
      "source": [
        "#The Passive Aggressive Classifier is an online learning technique that allows you to incrementally train a system by giving it instances in small groupings called mini-batches."
      ],
      "execution_count": null,
      "outputs": []
    },
    {
      "cell_type": "code",
      "metadata": {
        "id": "vKRAef0PbAp4"
      },
      "source": [
        "#Passive-Aggressive algorithms are called so because:\n",
        "#Passive: If the prediction is correct, keep the model and do not make any changes. i.e., the data in the example is not enough to cause any changes in the model.\n",
        "#Aggressive: If the prediction is incorrect, make changes to the model. i.e., some change to the model may correct it."
      ],
      "execution_count": null,
      "outputs": []
    },
    {
      "cell_type": "code",
      "metadata": {
        "colab": {
          "base_uri": "https://localhost:8080/"
        },
        "id": "xg4ktadQ9j9T",
        "outputId": "b8ec0e79-02de-4278-9390-14f79ea287d0"
      },
      "source": [
        "#Initialize PassiveAggressiveClassifier\n",
        "pac=PassiveAggressiveClassifier(max_iter=50)\n",
        "pac.fit(tfidf_train,y_train)\n",
        "\n",
        "#Predict on the test set and calculate accuracy\n",
        "y_pred=pac.predict(tfidf_test)\n",
        "score=accuracy_score(y_test,y_pred)\n",
        "print(f'Accuracy: {round(score*100,2)}%')"
      ],
      "execution_count": null,
      "outputs": [
        {
          "output_type": "execute_result",
          "data": {
            "text/plain": [
              "PassiveAggressiveClassifier(max_iter=50)"
            ]
          },
          "metadata": {},
          "execution_count": 30
        },
        {
          "output_type": "stream",
          "name": "stdout",
          "text": [
            "Accuracy: 99.54%\n"
          ]
        }
      ]
    },
    {
      "cell_type": "code",
      "metadata": {
        "colab": {
          "base_uri": "https://localhost:8080/"
        },
        "id": "H4idW2-WVIGU",
        "outputId": "120c6b73-4feb-4ad5-cd6c-04e7f5c42249"
      },
      "source": [
        "print(score)"
      ],
      "execution_count": null,
      "outputs": [
        {
          "output_type": "stream",
          "name": "stdout",
          "text": [
            "0.99543429844098\n"
          ]
        }
      ]
    },
    {
      "cell_type": "code",
      "metadata": {
        "id": "_1_vEgzrT771"
      },
      "source": [
        "if score <= .9:\n",
        "  print('ALERT')\n",
        "  print('Accuracy below threshold')"
      ],
      "execution_count": null,
      "outputs": []
    },
    {
      "cell_type": "code",
      "metadata": {
        "colab": {
          "base_uri": "https://localhost:8080/"
        },
        "id": "-VPmWk-49p0I",
        "outputId": "2d963762-0917-4213-df34-76b56c996578"
      },
      "source": [
        "#Build confusion matrix\n",
        "confusion_matrix(y_test,y_pred, labels=[0,1])"
      ],
      "execution_count": null,
      "outputs": [
        {
          "output_type": "execute_result",
          "data": {
            "text/plain": [
              "array([[4652,   23],\n",
              "       [  18, 4287]])"
            ]
          },
          "metadata": {},
          "execution_count": 33
        }
      ]
    },
    {
      "cell_type": "code",
      "metadata": {
        "colab": {
          "base_uri": "https://localhost:8080/"
        },
        "id": "KQbYKYjoI4IL",
        "outputId": "e72e47c0-7748-4cf9-e9ff-73ada3655f0a"
      },
      "source": [
        "recall_score(y_test, y_pred, average='macro')"
      ],
      "execution_count": null,
      "outputs": [
        {
          "output_type": "execute_result",
          "data": {
            "text/plain": [
              "0.995449514617377"
            ]
          },
          "metadata": {},
          "execution_count": 34
        }
      ]
    },
    {
      "cell_type": "code",
      "metadata": {
        "colab": {
          "base_uri": "https://localhost:8080/"
        },
        "id": "Vx6PUWqhJjth",
        "outputId": "3d74037c-b331-4aee-dc35-f5414e428d00"
      },
      "source": [
        "precision_score(y_test, y_pred, average='macro')"
      ],
      "execution_count": null,
      "outputs": [
        {
          "output_type": "execute_result",
          "data": {
            "text/plain": [
              "0.9954045916821097"
            ]
          },
          "metadata": {},
          "execution_count": 35
        }
      ]
    },
    {
      "cell_type": "markdown",
      "metadata": {
        "id": "Z-zuJn2SbDHE"
      },
      "source": [
        "#Support Vector Machine"
      ]
    },
    {
      "cell_type": "code",
      "metadata": {
        "id": "QPeSCz0nbFda"
      },
      "source": [
        "#This approach to machine learning is has advantages in high dimensional spaces and are still effetive\n",
        "#in cases where the number of dimensions is greater then the number of samples."
      ],
      "execution_count": null,
      "outputs": []
    },
    {
      "cell_type": "code",
      "metadata": {
        "colab": {
          "base_uri": "https://localhost:8080/"
        },
        "id": "i34N2x_obCYo",
        "outputId": "604fb32f-cee7-4257-e9c1-10326edc4991"
      },
      "source": [
        "# Classifier - Support Vector Machine\n",
        "from sklearn import model_selection, svm\n",
        "SVM = svm.SVC(C=1.9, kernel='linear')\n",
        "SVM.fit(tfidf_train, y_train)\n",
        "y_pred = SVM.predict(tfidf_test)\n",
        "svm_cf_matrix = confusion_matrix(y_test, y_pred)\n",
        "svm_cf_matrix"
      ],
      "execution_count": null,
      "outputs": [
        {
          "output_type": "execute_result",
          "data": {
            "text/plain": [
              "SVC(C=1.9, kernel='linear')"
            ]
          },
          "metadata": {},
          "execution_count": 48
        },
        {
          "output_type": "execute_result",
          "data": {
            "text/plain": [
              "array([[4654,   21],\n",
              "       [  20, 4285]])"
            ]
          },
          "metadata": {},
          "execution_count": 48
        }
      ]
    },
    {
      "cell_type": "code",
      "metadata": {
        "id": "PZb4WvBVbMP8",
        "colab": {
          "base_uri": "https://localhost:8080/"
        },
        "outputId": "80d14c81-e178-4eea-c690-0eda4d39a0b8"
      },
      "source": [
        "score_svm=accuracy_score(y_test,y_pred)\n",
        "print(f'Accuracy: {round(score_svm*100,2)}%')"
      ],
      "execution_count": null,
      "outputs": [
        {
          "output_type": "stream",
          "name": "stdout",
          "text": [
            "Accuracy: 99.54%\n"
          ]
        }
      ]
    },
    {
      "cell_type": "code",
      "metadata": {
        "id": "JXyHvgouW9Ex"
      },
      "source": [
        "if score_svm <= .9:\n",
        "  print('ALERT')\n",
        "  print('Accuracy below threshold')"
      ],
      "execution_count": null,
      "outputs": []
    },
    {
      "cell_type": "code",
      "metadata": {
        "id": "-vLFbpYo5T8b"
      },
      "source": [
        "#Build confusion matrix\n",
        "confusion_matrix(y_test,y_pred, labels=[0,1])"
      ],
      "execution_count": null,
      "outputs": []
    },
    {
      "cell_type": "code",
      "metadata": {
        "id": "gBlZV8ZXKTVy",
        "colab": {
          "base_uri": "https://localhost:8080/"
        },
        "outputId": "72851027-b52b-409b-854f-52c0b7582aad"
      },
      "source": [
        "recall_score(y_test, y_pred, average='macro')"
      ],
      "execution_count": null,
      "outputs": [
        {
          "output_type": "execute_result",
          "data": {
            "text/plain": [
              "0.9954311303235264"
            ]
          },
          "metadata": {},
          "execution_count": 45
        }
      ]
    },
    {
      "cell_type": "code",
      "metadata": {
        "id": "GwTredXIKT7m",
        "colab": {
          "base_uri": "https://localhost:8080/"
        },
        "outputId": "5f4d4d22-4534-4fc1-a8fd-67d1f37198e2"
      },
      "source": [
        "precision_score(y_test, y_pred, average='macro')"
      ],
      "execution_count": null,
      "outputs": [
        {
          "output_type": "execute_result",
          "data": {
            "text/plain": [
              "0.9954220469552093"
            ]
          },
          "metadata": {},
          "execution_count": 46
        }
      ]
    },
    {
      "cell_type": "markdown",
      "metadata": {
        "id": "jFv-lfC5bPBq"
      },
      "source": [
        "#Decision Tree"
      ]
    },
    {
      "cell_type": "code",
      "metadata": {
        "id": "Gz9bBfi3bMCg"
      },
      "source": [
        "#A decision tree approach is a smimilar to a flowchart structure with branches that represent a decision rule. Each leaf node represents an outcome."
      ],
      "execution_count": null,
      "outputs": []
    },
    {
      "cell_type": "code",
      "metadata": {
        "id": "HcHCoe9XbnBL",
        "colab": {
          "base_uri": "https://localhost:8080/"
        },
        "outputId": "7c943065-ae86-4f88-ed6a-814b7af907cf"
      },
      "source": [
        "# Classifier - DecisionTree\n",
        "from sklearn . tree import DecisionTreeClassifier\n",
        "Dtr = DecisionTreeClassifier ( random_state =0)\n",
        "Dtr.fit ( tfidf_train, y_train)\n",
        "y_pred = Dtr.predict (tfidf_test)\n",
        "score_Dtr=accuracy_score(y_test,y_pred)\n",
        "print(f'Accuracy: {round(score_Dtr*100,2)}%')"
      ],
      "execution_count": null,
      "outputs": [
        {
          "output_type": "execute_result",
          "data": {
            "text/plain": [
              "DecisionTreeClassifier(random_state=0)"
            ]
          },
          "metadata": {},
          "execution_count": 30
        },
        {
          "output_type": "stream",
          "name": "stdout",
          "text": [
            "Accuracy: 99.62%\n"
          ]
        }
      ]
    },
    {
      "cell_type": "code",
      "metadata": {
        "id": "EUwVI3q-bTIC",
        "colab": {
          "base_uri": "https://localhost:8080/"
        },
        "outputId": "4bca44a2-b4aa-4fb4-916c-577b63e8a659"
      },
      "source": [
        "score_Dtr=accuracy_score(y_test,y_pred)\n",
        "print(f'Accuracy: {round(score_Dtr*100,2)}%')"
      ],
      "execution_count": null,
      "outputs": [
        {
          "output_type": "stream",
          "name": "stdout",
          "text": [
            "Accuracy: 99.62%\n"
          ]
        }
      ]
    },
    {
      "cell_type": "code",
      "metadata": {
        "id": "tSzV6QXDXBIU"
      },
      "source": [
        "if score_Dtr <= .9:\n",
        "  print('ALERT')\n",
        "  print('Accuracy below threshold')"
      ],
      "execution_count": null,
      "outputs": []
    },
    {
      "cell_type": "code",
      "metadata": {
        "id": "VC4-sHbk5VTm"
      },
      "source": [
        "#Build confusion matrix\n",
        "confusion_matrix(y_test,y_pred, labels=[0,1])"
      ],
      "execution_count": null,
      "outputs": []
    },
    {
      "cell_type": "code",
      "metadata": {
        "id": "qA_vFOxBLD5w",
        "colab": {
          "base_uri": "https://localhost:8080/"
        },
        "outputId": "dbb1dc6c-320d-47a7-915d-4c6ac5c7196c"
      },
      "source": [
        "recall_score(y_test, y_pred, average='macro')"
      ],
      "execution_count": null,
      "outputs": [
        {
          "output_type": "execute_result",
          "data": {
            "text/plain": [
              "0.99616140913128"
            ]
          },
          "metadata": {},
          "execution_count": 35
        }
      ]
    },
    {
      "cell_type": "code",
      "metadata": {
        "id": "oFrq6rEFLFBr",
        "colab": {
          "base_uri": "https://localhost:8080/"
        },
        "outputId": "23b5efbf-d094-4520-bf14-c3db2e2d17ec"
      },
      "source": [
        "precision_score(y_test, y_pred, average='macro')"
      ],
      "execution_count": null,
      "outputs": [
        {
          "output_type": "execute_result",
          "data": {
            "text/plain": [
              "0.9962551078852455"
            ]
          },
          "metadata": {},
          "execution_count": 37
        }
      ]
    }
  ]
}